{
 "cells": [
  {
   "cell_type": "markdown",
   "id": "f2873999-f9d0-4c92-9bad-6af6b8826896",
   "metadata": {
    "tags": []
   },
   "source": [
    "# Data Science Tools and Ecosystem"
   ]
  },
  {
   "cell_type": "markdown",
   "id": "8200838d-db17-45c7-be30-216efd3105ee",
   "metadata": {},
   "source": [
    "## Author\n",
    "\n",
    "Cathrina Lingao"
   ]
  },
  {
   "cell_type": "markdown",
   "id": "4243b549-7ba1-44e2-8a55-75e9a8d9b187",
   "metadata": {},
   "source": [
    "## In this notebook, Data Science Tools and Ecosystem are summarized "
   ]
  },
  {
   "cell_type": "markdown",
   "id": "b8ddba3f-2033-4336-a150-ed69663736a9",
   "metadata": {},
   "source": [
    "## **Objectives:**\n",
    "\n",
    "- List popular languages for Data Science\n",
    "- Commonly used libraries by Data Scientists\n",
    "- Data Science Tools\n",
    "- Arithmetic Expression in Python\n"
   ]
  },
  {
   "cell_type": "markdown",
   "id": "ba4df4fe-8f24-4e13-88bb-e8e17fa22cc3",
   "metadata": {},
   "source": [
    "### Some of the popular languages Data Scientists use are:\n",
    "\n",
    "1. Python\n",
    "2. SQL\n",
    "3. R\n",
    "4. Java"
   ]
  },
  {
   "cell_type": "markdown",
   "id": "24dc6a0d-b9ff-406a-a8cd-0df2f9458115",
   "metadata": {},
   "source": [
    "### Some of the commonly used libraries used by Data Scientist include:\n",
    "\n",
    "1. Pandas\n",
    "2. Matplotlib\n",
    "3. TensorFlow\n",
    "4. Scikit-learn\n",
    "5. SciPy\n",
    "6. NumPy"
   ]
  },
  {
   "cell_type": "markdown",
   "id": "95ef661c-af28-43c9-bb92-7668a37ef93d",
   "metadata": {},
   "source": [
    "| Data Science Tools |\n",
    "|--------------------|\n",
    "|RStudio|\n",
    "|TensorFlow|\n",
    "|Anaconda|\n",
    "|Apache Spark|\n",
    "|Apache Hadoop|"
   ]
  },
  {
   "cell_type": "markdown",
   "id": "2de057ed-957c-41c7-9ca2-6181043b2d75",
   "metadata": {},
   "source": [
    "### Below are a few examples of evaluating arithmetic expressions in Python\n",
    "\n",
    "#### addition \n",
    "2+2\n",
    "#### multiplication \n",
    "3*6\n",
    "#### multiplication and addition\n",
    "(2*2)+5"
   ]
  },
  {
   "cell_type": "markdown",
   "id": "0d3ff092-cd45-4c73-a987-e50873ca7909",
   "metadata": {},
   "source": [
    "### This a simple arithmetic expression to mutiply then add integers\n"
   ]
  },
  {
   "cell_type": "code",
   "execution_count": 3,
   "id": "fa38bcc0-6010-4301-9379-7bdca69309bd",
   "metadata": {
    "tags": []
   },
   "outputs": [
    {
     "data": {
      "text/plain": [
       "17"
      ]
     },
     "execution_count": 3,
     "metadata": {},
     "output_type": "execute_result"
    }
   ],
   "source": [
    "(3*4)+5"
   ]
  },
  {
   "cell_type": "markdown",
   "id": "17d9ae9b-f86b-46c7-90e2-41777de658c2",
   "metadata": {},
   "source": [
    "### This will convert 200 minutes to hours by diving by 60\n"
   ]
  },
  {
   "cell_type": "code",
   "execution_count": 4,
   "id": "e94094c1-3507-44ff-907d-269c1858dc55",
   "metadata": {
    "tags": []
   },
   "outputs": [
    {
     "data": {
      "text/plain": [
       "33.333333333333336"
      ]
     },
     "execution_count": 4,
     "metadata": {},
     "output_type": "execute_result"
    }
   ],
   "source": [
    "200/6"
   ]
  },
  {
   "cell_type": "code",
   "execution_count": null,
   "id": "2d4e910b-6389-411d-a3a1-3cb09f046e3c",
   "metadata": {},
   "outputs": [],
   "source": []
  }
 ],
 "metadata": {
  "kernelspec": {
   "display_name": "Python",
   "language": "python",
   "name": "conda-env-python-py"
  },
  "language_info": {
   "codemirror_mode": {
    "name": "ipython",
    "version": 3
   },
   "file_extension": ".py",
   "mimetype": "text/x-python",
   "name": "python",
   "nbconvert_exporter": "python",
   "pygments_lexer": "ipython3",
   "version": "3.7.12"
  }
 },
 "nbformat": 4,
 "nbformat_minor": 5
}
